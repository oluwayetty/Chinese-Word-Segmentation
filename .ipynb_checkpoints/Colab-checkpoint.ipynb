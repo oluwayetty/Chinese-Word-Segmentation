{
 "cells": [
  {
   "cell_type": "code",
   "execution_count": 25,
   "metadata": {
    "colab": {
     "base_uri": "https://localhost:8080/",
     "height": 34
    },
    "colab_type": "code",
    "id": "xDsAmnlBzvMN",
    "outputId": "ca9f10e2-ad6f-4a89-f594-8fedeea9b2f3"
   },
   "outputs": [
    {
     "data": {
      "text/plain": [
       "'3.6.7 (default, Oct 22 2018, 11:32:17) \\n[GCC 8.2.0]'"
      ]
     },
     "execution_count": 25,
     "metadata": {
      "tags": []
     },
     "output_type": "execute_result"
    }
   ],
   "source": [
    "import sys\n",
    "sys.version\n"
   ]
  },
  {
   "cell_type": "code",
   "execution_count": 2,
   "metadata": {
    "colab": {
     "base_uri": "https://localhost:8080/",
     "height": 122
    },
    "colab_type": "code",
    "id": "P-qxouFzzxsx",
    "outputId": "cd8b3e03-cd48-4880-db0e-9e0586c40b75"
   },
   "outputs": [
    {
     "name": "stdout",
     "output_type": "stream",
     "text": [
      "Go to this URL in a browser: https://accounts.google.com/o/oauth2/auth?client_id=947318989803-6bn6qk8qdgf4n4g3pfee6491hc0brc4i.apps.googleusercontent.com&redirect_uri=urn%3Aietf%3Awg%3Aoauth%3A2.0%3Aoob&scope=email%20https%3A%2F%2Fwww.googleapis.com%2Fauth%2Fdocs.test%20https%3A%2F%2Fwww.googleapis.com%2Fauth%2Fdrive%20https%3A%2F%2Fwww.googleapis.com%2Fauth%2Fdrive.photos.readonly%20https%3A%2F%2Fwww.googleapis.com%2Fauth%2Fpeopleapi.readonly&response_type=code\n",
      "\n",
      "Enter your authorization code:\n",
      "··········\n",
      "Mounted at /content/gdrive\n"
     ]
    }
   ],
   "source": [
    "from google.colab import drive\n",
    "drive.mount('/content/gdrive')"
   ]
  },
  {
   "cell_type": "code",
   "execution_count": 3,
   "metadata": {
    "colab": {
     "base_uri": "https://localhost:8080/",
     "height": 34
    },
    "colab_type": "code",
    "id": "jRbI1zTOz7i0",
    "outputId": "325ab119-3ece-4f5b-97be-c922fdb2ac7b"
   },
   "outputs": [
    {
     "name": "stdout",
     "output_type": "stream",
     "text": [
      "nope.ipynb  onegram_label.txt  onegram.utf8  onegramvec.txt\n"
     ]
    }
   ],
   "source": [
    "!ls '/content/gdrive/My Drive/yetty/ngram'"
   ]
  },
  {
   "cell_type": "code",
   "execution_count": 1,
   "metadata": {
    "colab": {},
    "colab_type": "code",
    "id": "JwZgN7E2zpS3"
   },
   "outputs": [
    {
     "name": "stderr",
     "output_type": "stream",
     "text": [
      "/anaconda3/lib/python3.6/site-packages/h5py/__init__.py:36: FutureWarning: Conversion of the second argument of issubdtype from `float` to `np.floating` is deprecated. In future, it will be treated as `np.float64 == np.dtype(float).type`.\n",
      "  from ._conv import register_converters as _register_converters\n"
     ]
    }
   ],
   "source": [
    "import pandas\n",
    "import tensorflow as tf\n",
    "import numpy as np\n",
    "\n",
    "df = pandas.read_table('data/simplified/onegram_label.txt', header=None)\n",
    "label = pandas.read_table('data/simplified/onegram_label.txt', header=None)\n"
   ]
  },
  {
   "cell_type": "code",
   "execution_count": 2,
   "metadata": {
    "colab": {},
    "colab_type": "code",
    "id": "E1-iaBlCzpS6"
   },
   "outputs": [],
   "source": [
    "df['label'] = label[0]\n",
    "df.columns = ['character', 'label']\n",
    "# label"
   ]
  },
  {
   "cell_type": "code",
   "execution_count": 3,
   "metadata": {
    "colab": {
     "base_uri": "https://localhost:8080/",
     "height": 34
    },
    "colab_type": "code",
    "id": "FBND_JmLzpS9",
    "outputId": "d11c03b2-9022-4d2f-e3c8-948a8c72a2ee"
   },
   "outputs": [
    {
     "data": {
      "text/plain": [
       "(5876917, 2)"
      ]
     },
     "execution_count": 3,
     "metadata": {},
     "output_type": "execute_result"
    }
   ],
   "source": [
    "df.shape"
   ]
  },
  {
   "cell_type": "code",
   "execution_count": 4,
   "metadata": {
    "colab": {
     "base_uri": "https://localhost:8080/",
     "height": 34
    },
    "colab_type": "code",
    "id": "be41Q0dczpTC",
    "outputId": "f9b5b5a5-84f4-4670-eee0-f46e525d04d9"
   },
   "outputs": [
    {
     "data": {
      "text/plain": [
       "128"
      ]
     },
     "execution_count": 4,
     "metadata": {},
     "output_type": "execute_result"
    }
   ],
   "source": [
    "vocabulary_size = 128\n",
    "vocabulary_size"
   ]
  },
  {
   "cell_type": "code",
   "execution_count": null,
   "metadata": {
    "colab": {},
    "colab_type": "code",
    "id": "aDgvTm39zpTF"
   },
   "outputs": [],
   "source": [
    "### Create sequence\n",
    "from tensorflow.keras.preprocessing.text import Tokenizer\n",
    "from tensorflow.keras.preprocessing.sequence import pad_sequences\n",
    "\n",
    "tokenizer = Tokenizer(num_words= vocabulary_size)\n",
    "tokenizer.fit_on_texts(df['character'])\n",
    "sequences = tokenizer.texts_to_sequences(df['character'])\n",
    "data = pad_sequences(sequences, maxlen=50)\n"
   ]
  },
  {
   "cell_type": "code",
   "execution_count": 17,
   "metadata": {
    "colab": {
     "base_uri": "https://localhost:8080/",
     "height": 34
    },
    "colab_type": "code",
    "id": "S54mY5u9_Czh",
    "outputId": "9512a436-7ecd-4611-b5c0-9242c2154515"
   },
   "outputs": [
    {
     "data": {
      "text/plain": [
       "(8368050, 50)"
      ]
     },
     "execution_count": 17,
     "metadata": {
      "tags": []
     },
     "output_type": "execute_result"
    }
   ],
   "source": [
    "data.shape"
   ]
  },
  {
   "cell_type": "code",
   "execution_count": 0,
   "metadata": {
    "colab": {},
    "colab_type": "code",
    "id": "TeEtDNYyzpTH"
   },
   "outputs": [],
   "source": [
    "from sklearn.preprocessing import OneHotEncoder, MultiLabelBinarizer, LabelBinarizer, LabelEncoder"
   ]
  },
  {
   "cell_type": "code",
   "execution_count": 20,
   "metadata": {
    "colab": {
     "base_uri": "https://localhost:8080/",
     "height": 34
    },
    "colab_type": "code",
    "id": "y7LG5RQAlI9O",
    "outputId": "1807da5a-3ca0-41cb-b356-8a4129a5f1fa"
   },
   "outputs": [
    {
     "data": {
      "text/plain": [
       "(8368050, 4)"
      ]
     },
     "execution_count": 20,
     "metadata": {
      "tags": []
     },
     "output_type": "execute_result"
    }
   ],
   "source": [
    "OneHotEncoder().fit_transform(df.label.values.reshape((-1, 1))).shape"
   ]
  },
  {
   "cell_type": "code",
   "execution_count": 21,
   "metadata": {
    "colab": {
     "base_uri": "https://localhost:8080/",
     "height": 68
    },
    "colab_type": "code",
    "id": "lsQG_MT8lIxd",
    "outputId": "021924a6-9969-42f9-dbd0-d6e795bc8296"
   },
   "outputs": [
    {
     "data": {
      "text/plain": [
       "array([0, 1, 3, 0, 1, 0, 1, 3, 0, 2, 1, 3, 0, 1, 0, 1, 3, 0, 1, 3, 0, 1,\n",
       "       0, 1, 0, 1, 0, 1, 0, 2, 1, 3, 0, 1, 3, 0, 2, 1, 0, 1, 0, 2, 1, 0,\n",
       "       1, 3, 0, 1, 3, 3, 3, 3, 0, 1])"
      ]
     },
     "execution_count": 21,
     "metadata": {
      "tags": []
     },
     "output_type": "execute_result"
    }
   ],
   "source": [
    "e = LabelEncoder().fit_transform(df.label)\n",
    "e[:54]"
   ]
  },
  {
   "cell_type": "code",
   "execution_count": 0,
   "metadata": {
    "colab": {},
    "colab_type": "code",
    "id": "bdE3Jm26zpTJ"
   },
   "outputs": [],
   "source": [
    "# labels = MultiLabelBinarizer().fit_transform(df.label)\n",
    "# labels\n"
   ]
  },
  {
   "cell_type": "code",
   "execution_count": 0,
   "metadata": {
    "colab": {},
    "colab_type": "code",
    "id": "Fu-7-3cuS33X"
   },
   "outputs": [],
   "source": [
    "# labels = e[:100000]\n",
    "# data = data[:100000]"
   ]
  },
  {
   "cell_type": "code",
   "execution_count": 23,
   "metadata": {
    "colab": {
     "base_uri": "https://localhost:8080/",
     "height": 68
    },
    "colab_type": "code",
    "id": "M9J6J5-QWP6j",
    "outputId": "18d20e69-86a3-46ad-d028-ae087c14220e"
   },
   "outputs": [
    {
     "data": {
      "text/plain": [
       "array([0, 1, 3, 0, 1, 0, 1, 3, 0, 2, 1, 3, 0, 1, 0, 1, 3, 0, 1, 3, 0, 1,\n",
       "       0, 1, 0, 1, 0, 1, 0, 2, 1, 3, 0, 1, 3, 0, 2, 1, 0, 1, 0, 2, 1, 0,\n",
       "       1, 3, 0, 1, 3, 3, 3, 3, 0, 1])"
      ]
     },
     "execution_count": 23,
     "metadata": {
      "tags": []
     },
     "output_type": "execute_result"
    }
   ],
   "source": [
    "labels = e\n",
    "labels[:54]"
   ]
  },
  {
   "cell_type": "code",
   "execution_count": 24,
   "metadata": {
    "colab": {
     "base_uri": "https://localhost:8080/",
     "height": 34
    },
    "colab_type": "code",
    "id": "PMLSbtv5zpTM",
    "outputId": "7a95e51f-80c1-4efa-caff-a5c44326bf1d"
   },
   "outputs": [
    {
     "data": {
      "text/plain": [
       "((8368050, 50), (8368050,))"
      ]
     },
     "execution_count": 24,
     "metadata": {
      "tags": []
     },
     "output_type": "execute_result"
    }
   ],
   "source": [
    "data.shape, labels.shape"
   ]
  },
  {
   "cell_type": "code",
   "execution_count": 0,
   "metadata": {
    "colab": {},
    "colab_type": "code",
    "id": "LRsyDGAkzpTO"
   },
   "outputs": [],
   "source": [
    "from sklearn.model_selection import train_test_split\n",
    "\n",
    "X_train, X_test, y_train, y_test = train_test_split(data, labels, test_size=0.33, random_state=42)"
   ]
  },
  {
   "cell_type": "code",
   "execution_count": 26,
   "metadata": {
    "colab": {
     "base_uri": "https://localhost:8080/",
     "height": 34
    },
    "colab_type": "code",
    "id": "3PKYwUrsq1zd",
    "outputId": "cbcfe87e-c278-4507-9ca1-3b0183a69bed"
   },
   "outputs": [
    {
     "data": {
      "text/plain": [
       "(5606593, 50)"
      ]
     },
     "execution_count": 26,
     "metadata": {
      "tags": []
     },
     "output_type": "execute_result"
    }
   ],
   "source": [
    "X_train.shape"
   ]
  },
  {
   "cell_type": "code",
   "execution_count": 27,
   "metadata": {
    "colab": {
     "base_uri": "https://localhost:8080/",
     "height": 51
    },
    "colab_type": "code",
    "id": "SDZ_yiL_zpTR",
    "outputId": "2fef66fb-5553-4f0c-dec7-cba397ba4ded"
   },
   "outputs": [
    {
     "name": "stderr",
     "output_type": "stream",
     "text": [
      "paramiko missing, opening SSH/SCP/SFTP paths will be disabled.  `pip install paramiko` to suppress\n"
     ]
    },
    {
     "data": {
      "text/plain": [
       "<gensim.models.keyedvectors.Word2VecKeyedVectors at 0x7fa7f6a03860>"
      ]
     },
     "execution_count": 27,
     "metadata": {
      "tags": []
     },
     "output_type": "execute_result"
    }
   ],
   "source": [
    "####Load Embedding\n",
    "from gensim.models import KeyedVectors\n",
    "\n",
    "embedding_model = KeyedVectors.load_word2vec_format('/content/gdrive/My Drive/yetty/ngram/onegramvec.txt')\n",
    "embedding_model"
   ]
  },
  {
   "cell_type": "code",
   "execution_count": 28,
   "metadata": {
    "colab": {
     "base_uri": "https://localhost:8080/",
     "height": 34
    },
    "colab_type": "code",
    "id": "ZbQq67fazpTW",
    "outputId": "e45c3ba2-3568-4198-fd29-b6209dcf773b"
   },
   "outputs": [
    {
     "data": {
      "text/plain": [
       "100"
      ]
     },
     "execution_count": 28,
     "metadata": {
      "tags": []
     },
     "output_type": "execute_result"
    }
   ],
   "source": [
    "embedding_dim = len(embedding_model[next(iter(embedding_model.vocab))])\n",
    "embedding_dim"
   ]
  },
  {
   "cell_type": "code",
   "execution_count": 29,
   "metadata": {
    "colab": {
     "base_uri": "https://localhost:8080/",
     "height": 34
    },
    "colab_type": "code",
    "id": "UtHSj5J-zpTY",
    "outputId": "93af4a04-621e-4a31-ff00-cbf4574bf622"
   },
   "outputs": [
    {
     "data": {
      "text/plain": [
       "(128, 100)"
      ]
     },
     "execution_count": 29,
     "metadata": {
      "tags": []
     },
     "output_type": "execute_result"
    }
   ],
   "source": [
    "embedding_matrix = np.random.rand(128, embedding_dim)\n",
    "embedding_matrix.shape"
   ]
  },
  {
   "cell_type": "code",
   "execution_count": 0,
   "metadata": {
    "colab": {},
    "colab_type": "code",
    "id": "qV1ezQJHzpTa"
   },
   "outputs": [],
   "source": [
    "from tensorflow.keras import backend as K\n",
    "\n",
    "def precision(y_true, y_pred):\t\n",
    "    \"\"\"Precision metric.\t\n",
    "    Only computes a batch-wise average of precision. Computes the precision, a\n",
    "    metric for multi-label classification of how many selected items are\n",
    "    relevant.\n",
    "    \"\"\"\t\n",
    "    true_positives = K.sum(K.round(K.clip(y_true * y_pred, 0, 1)))\t\n",
    "    predicted_positives = K.sum(K.round(K.clip(y_pred, 0, 1)))\t\n",
    "    precision = true_positives / (predicted_positives + K.epsilon())\t\n",
    "    return precision"
   ]
  },
  {
   "cell_type": "code",
   "execution_count": 0,
   "metadata": {
    "colab": {},
    "colab_type": "code",
    "id": "4tkjQHK9zpTc"
   },
   "outputs": [],
   "source": [
    "from tensorflow.keras.wrappers.scikit_learn import KerasClassifier\n",
    "from tensorflow.keras.models import Sequential\n",
    "from tensorflow.keras.layers import Embedding, Dense, Bidirectional, Activation, LSTM,Dropout, InputLayer\n",
    "# from tensorflow.keras_tqdm import TQDMNotebookCallback\n",
    "CLASSES = 4\n",
    "def build_model(char_size, word_size, max_len, dropout):\n",
    "    model = Sequential()\n",
    "    model.add(Embedding(char_size, word_size, input_length=max_len))\n",
    "    model.add(Bidirectional(LSTM(char_size, dropout=dropout, recurrent_dropout=dropout, return_sequences=False), merge_mode='sum'))\n",
    "    model.add(Dropout(dropout))\n",
    "    model.add((Dense(CLASSES, activation='softmax')))\n",
    "    model.compile(loss='categorical_crossentropy', optimizer='adam', metrics=[precision, 'accuracy'])\n",
    "        \n",
    "    return model\n",
    "    \n",
    "model = KerasClassifier(build_model)\n"
   ]
  },
  {
   "cell_type": "code",
   "execution_count": 0,
   "metadata": {
    "colab": {
     "base_uri": "https://localhost:8080/",
     "height": 275
    },
    "colab_type": "code",
    "id": "nz5Zym7DzpTe",
    "outputId": "ca9104c5-7c14-4709-967d-0c8a205c2d48"
   },
   "outputs": [
    {
     "name": "stderr",
     "output_type": "stream",
     "text": [
      "/usr/local/lib/python3.6/dist-packages/sklearn/model_selection/_split.py:2053: FutureWarning: You should specify a value for 'cv' instead of relying on the default value. The default value will change from 3 to 5 in version 0.22.\n",
      "  warnings.warn(CV_WARNING, FutureWarning)\n",
      "[Parallel(n_jobs=1)]: Using backend SequentialBackend with 1 concurrent workers.\n"
     ]
    },
    {
     "name": "stdout",
     "output_type": "stream",
     "text": [
      "Fitting 3 folds for each of 1 candidates, totalling 3 fits\n",
      "WARNING:tensorflow:From /usr/local/lib/python3.6/dist-packages/tensorflow/python/ops/resource_variable_ops.py:435: colocate_with (from tensorflow.python.framework.ops) is deprecated and will be removed in a future version.\n",
      "Instructions for updating:\n",
      "Colocations handled automatically by placer.\n",
      "WARNING:tensorflow:From /usr/local/lib/python3.6/dist-packages/tensorflow/python/keras/backend.py:4010: calling dropout (from tensorflow.python.ops.nn_ops) with keep_prob is deprecated and will be removed in a future version.\n",
      "Instructions for updating:\n",
      "Please use `rate` instead of `keep_prob`. Rate should be set to `rate = 1 - keep_prob`.\n",
      "WARNING:tensorflow:From /usr/local/lib/python3.6/dist-packages/tensorflow/python/ops/math_ops.py:3066: to_int32 (from tensorflow.python.ops.math_ops) is deprecated and will be removed in a future version.\n",
      "Instructions for updating:\n",
      "Use tf.cast instead.\n",
      " 728704/3737728 [====>.........................] - ETA: 11:15:18 - loss: 0.9612 - precision: 0.7895 - acc: 0.5412"
     ]
    }
   ],
   "source": [
    "from sklearn.model_selection import GridSearchCV\n",
    "\n",
    "max_len = [50] #### Change to correct value\n",
    "char_size = [128]\n",
    "word_size = [100]\n",
    "dropout = [0.15]\n",
    "\n",
    "param_grid = dict(\n",
    "                  max_len=max_len,\n",
    "                  dropout = dropout,\n",
    "                  word_size = word_size,\n",
    "                  char_size = char_size,\n",
    "                 )\n",
    "\n",
    "grid = GridSearchCV(model, param_grid=param_grid, verbose=1,return_train_score=True)\n",
    "\n",
    "grid.fit(X_train,y_train)"
   ]
  },
  {
   "cell_type": "code",
   "execution_count": 0,
   "metadata": {
    "colab": {},
    "colab_type": "code",
    "id": "x3hlVU39zpTm"
   },
   "outputs": [],
   "source": [
    "best = grid.best_estimator_"
   ]
  },
  {
   "cell_type": "code",
   "execution_count": 24,
   "metadata": {
    "colab": {
     "base_uri": "https://localhost:8080/",
     "height": 275
    },
    "colab_type": "code",
    "id": "GxMxFLv5zpTn",
    "outputId": "7929e813-f87d-4698-ad33-5a32a2419f17"
   },
   "outputs": [
    {
     "name": "stdout",
     "output_type": "stream",
     "text": [
      "Best: 0.534522 using {'char_size': 128, 'dropout': 0.15, 'max_len': 50, 'word_size': 100}\n",
      "{'mean_fit_time': array([599.45483081]), 'std_fit_time': array([5.95537112]), 'mean_score_time': array([48.22647587]), 'std_score_time': array([0.50648643]), 'param_char_size': masked_array(data=[128],\n",
      "             mask=[False],\n",
      "       fill_value='?',\n",
      "            dtype=object), 'param_dropout': masked_array(data=[0.15],\n",
      "             mask=[False],\n",
      "       fill_value='?',\n",
      "            dtype=object), 'param_max_len': masked_array(data=[50],\n",
      "             mask=[False],\n",
      "       fill_value='?',\n",
      "            dtype=object), 'param_word_size': masked_array(data=[100],\n",
      "             mask=[False],\n",
      "       fill_value='?',\n",
      "            dtype=object), 'params': [{'char_size': 128, 'dropout': 0.15, 'max_len': 50, 'word_size': 100}], 'split0_test_score': array([0.52838719]), 'split1_test_score': array([0.53938121]), 'split2_test_score': array([0.53579903]), 'mean_test_score': array([0.53452238]), 'std_test_score': array([0.00457818]), 'rank_test_score': array([1], dtype=int32), 'split0_train_score': array([0.53490353]), 'split1_train_score': array([0.53372735]), 'split2_train_score': array([0.53627956]), 'mean_train_score': array([0.53497014]), 'std_train_score': array([0.001043])}\n"
     ]
    }
   ],
   "source": [
    "print(\"Best: %f using %s\" % (grid.best_score_, grid.best_params_))\n",
    "\n",
    "\n",
    "print(grid.cv_results_)"
   ]
  },
  {
   "cell_type": "code",
   "execution_count": 0,
   "metadata": {
    "colab": {},
    "colab_type": "code",
    "id": "Q4vkOLc4zpTr"
   },
   "outputs": [],
   "source": [
    "best.predict(X_test)"
   ]
  },
  {
   "cell_type": "code",
   "execution_count": 0,
   "metadata": {
    "colab": {},
    "colab_type": "code",
    "id": "OEXPwHk28cDs"
   },
   "outputs": [],
   "source": []
  }
 ],
 "metadata": {
  "accelerator": "TPU",
  "colab": {
   "name": "Copy of nope.ipynb",
   "provenance": [],
   "version": "0.3.2"
  },
  "kernelspec": {
   "display_name": "Python 3",
   "language": "python",
   "name": "python3"
  },
  "language_info": {
   "codemirror_mode": {
    "name": "ipython",
    "version": 3
   },
   "file_extension": ".py",
   "mimetype": "text/x-python",
   "name": "python",
   "nbconvert_exporter": "python",
   "pygments_lexer": "ipython3",
   "version": "3.6.6"
  }
 },
 "nbformat": 4,
 "nbformat_minor": 1
}
